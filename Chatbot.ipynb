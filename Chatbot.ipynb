{
 "cells": [
  {
   "cell_type": "code",
   "execution_count": 54,
   "id": "b3213e49",
   "metadata": {},
   "outputs": [],
   "source": [
    "import numpy as np\n",
    "import pandas as pd\n",
    "import re\n",
    "import string\n",
    "from nltk.stem import PorterStemmer, WordNetLemmatizer\n",
    "from nltk.corpus import stopwords\n",
    "from sklearn.metrics.pairwise import cosine_distances\n",
    "from nltk.sentiment.vader import SentimentIntensityAnalyzer\n",
    "from sklearn.feature_extraction.text import TfidfVectorizer"
   ]
  },
  {
   "cell_type": "code",
   "execution_count": 55,
   "id": "2dd130ad",
   "metadata": {},
   "outputs": [],
   "source": [
    "human1 = []\n",
    "human2 = []\n",
    "lines = []"
   ]
  },
  {
   "cell_type": "code",
   "execution_count": 56,
   "id": "3da46af4",
   "metadata": {},
   "outputs": [
    {
     "data": {
      "text/plain": [
       "115782"
      ]
     },
     "execution_count": 56,
     "metadata": {},
     "output_type": "execute_result"
    }
   ],
   "source": [
    "len(file)"
   ]
  },
  {
   "cell_type": "code",
   "execution_count": 57,
   "id": "3c62fc60",
   "metadata": {},
   "outputs": [
    {
     "name": "stdout",
     "output_type": "stream",
     "text": [
      "done\n"
     ]
    },
    {
     "data": {
      "text/plain": [
       "1494"
      ]
     },
     "execution_count": 57,
     "metadata": {},
     "output_type": "execute_result"
    }
   ],
   "source": [
    "dialogs = []\n",
    "with open('human_chat.txt', 'r') as w:\n",
    "    for line in w:\n",
    "        try:\n",
    "            dialogs.append(line.split(': ')[1].split(\"\\n\")[0])\n",
    "        except:\n",
    "            print('done')\n",
    "        \n",
    "len(dialogs)"
   ]
  },
  {
   "cell_type": "code",
   "execution_count": 59,
   "id": "186af51d",
   "metadata": {},
   "outputs": [],
   "source": [
    "for ind, line in enumerate(dialogs):\n",
    "    if ind%2==0:\n",
    "        human1.append(line)\n",
    "    else:\n",
    "        human2.append(line)\n",
    "\n",
    "# save to a dataframe\n",
    "df = pd.DataFrame({'Question':human1, 'Answer':human2})"
   ]
  },
  {
   "cell_type": "code",
   "execution_count": 60,
   "id": "531d8a60",
   "metadata": {},
   "outputs": [
    {
     "data": {
      "text/plain": [
       "(747, 747)"
      ]
     },
     "execution_count": 60,
     "metadata": {},
     "output_type": "execute_result"
    }
   ],
   "source": [
    "len(human1), len(human2)"
   ]
  },
  {
   "cell_type": "code",
   "execution_count": 62,
   "id": "8e46a65f",
   "metadata": {},
   "outputs": [
    {
     "data": {
      "text/plain": [
       "Question    0\n",
       "Answer      0\n",
       "dtype: int64"
      ]
     },
     "execution_count": 62,
     "metadata": {},
     "output_type": "execute_result"
    }
   ],
   "source": [
    "df.isnull().sum()"
   ]
  },
  {
   "cell_type": "code",
   "execution_count": 63,
   "id": "e0e0d0d3",
   "metadata": {},
   "outputs": [],
   "source": [
    "stop_words_list = stopwords.words(\"english\")"
   ]
  },
  {
   "cell_type": "code",
   "execution_count": 64,
   "id": "add0d22c",
   "metadata": {},
   "outputs": [],
   "source": [
    "def preprocess(text):\n",
    "    text = text.lower()\n",
    "    text = text.translate(str.maketrans(\"\", \"\", string.punctuation))\n",
    "    words = text.split()\n",
    "    words = [word for word in words if not word in stop_words_list]\n",
    "    words = [word.strip() for word in words if len(word.strip()) > 1]\n",
    "    text = \" \".join(words)\n",
    "    return text"
   ]
  },
  {
   "cell_type": "code",
   "execution_count": 65,
   "id": "404f258a",
   "metadata": {},
   "outputs": [],
   "source": [
    "df[\"Question\"] = df[\"Question\"].apply(preprocess)"
   ]
  },
  {
   "cell_type": "code",
   "execution_count": 66,
   "id": "9399d25d",
   "metadata": {},
   "outputs": [],
   "source": [
    "lemmatizer = WordNetLemmatizer()\n",
    "def lemmatizing(text):\n",
    "    stemmed_text = \"\"\n",
    "    for word in text.split():\n",
    "        stem = lemmatizer.lemmatize(word)\n",
    "        stemmed_text += stem\n",
    "        stemmed_text += \" \"\n",
    "        \n",
    "    stemmed_text = stemmed_text.strip()\n",
    "    return stemmed_text"
   ]
  },
  {
   "cell_type": "code",
   "execution_count": 67,
   "id": "ccdcabd4",
   "metadata": {},
   "outputs": [],
   "source": [
    "df[\"Question\"] = df[\"Question\"].apply(preprocess)"
   ]
  },
  {
   "cell_type": "code",
   "execution_count": 68,
   "id": "05adb06f",
   "metadata": {},
   "outputs": [],
   "source": [
    "stemmer = PorterStemmer()\n",
    "def stemmizing(text):\n",
    "    stemmed_text = \"\"\n",
    "    for word in text.split():\n",
    "        stem = stemmer.stem(word)\n",
    "        stemmed_text += stem\n",
    "        stemmed_text += \" \"\n",
    "        \n",
    "    stemmed_text = stemmed_text.strip()\n",
    "    return stemmed_text"
   ]
  },
  {
   "cell_type": "code",
   "execution_count": 69,
   "id": "64f6fd0e",
   "metadata": {},
   "outputs": [],
   "source": [
    "df[\"Question\"] = df[\"Question\"].apply(preprocess)"
   ]
  },
  {
   "cell_type": "code",
   "execution_count": 71,
   "id": "f641140c",
   "metadata": {},
   "outputs": [],
   "source": [
    "analyzer = SentimentIntensityAnalyzer()\n",
    "df[\"rating\"] = df[\"Question\"].apply(analyzer.polarity_scores)\n",
    "df = pd.concat([df.drop([\"rating\"], axis=1), df[\"rating\"].apply(pd.Series)], axis=1)"
   ]
  },
  {
   "cell_type": "code",
   "execution_count": 73,
   "id": "b7fbe6cc",
   "metadata": {},
   "outputs": [],
   "source": [
    "tfidf = TfidfVectorizer()"
   ]
  },
  {
   "cell_type": "code",
   "execution_count": 74,
   "id": "4c300034",
   "metadata": {},
   "outputs": [],
   "source": [
    "factors = tfidf.fit_transform(df[\"Question\"]).toarray()"
   ]
  },
  {
   "cell_type": "code",
   "execution_count": 75,
   "id": "f60ff01e",
   "metadata": {},
   "outputs": [
    {
     "name": "stdout",
     "output_type": "stream",
     "text": [
      "User#> hi\n",
      "Bot#>  What is your favorite holiday?\n",
      "User#> exit\n"
     ]
    }
   ],
   "source": [
    "while True:\n",
    "    query = input(\"User#> \")\n",
    "    if query == \"exit\":\n",
    "        break\n",
    "        \n",
    "    query = lemmatizing(query)\n",
    "    query_vector = tfidf.transform([query]).toarray()\n",
    "    similar_score = 1 - cosine_distances(factors, query_vector)\n",
    "    index = similar_score.argmax()\n",
    "    match = df.loc[index][\"Question\"]\n",
    "    response = df.loc[index][\"Answer\"]\n",
    "    if similar_score[0] <= 0.1:\n",
    "        print(\"Bot#> Please rephrase your question.\")\n",
    "        \n",
    "    else:\n",
    "        print(\"Bot#> \", response)"
   ]
  },
  {
   "cell_type": "code",
   "execution_count": null,
   "id": "82ff315c",
   "metadata": {},
   "outputs": [],
   "source": []
  }
 ],
 "metadata": {
  "kernelspec": {
   "display_name": "Python 3 (ipykernel)",
   "language": "python",
   "name": "python3"
  },
  "language_info": {
   "codemirror_mode": {
    "name": "ipython",
    "version": 3
   },
   "file_extension": ".py",
   "mimetype": "text/x-python",
   "name": "python",
   "nbconvert_exporter": "python",
   "pygments_lexer": "ipython3",
   "version": "3.8.16"
  }
 },
 "nbformat": 4,
 "nbformat_minor": 5
}
